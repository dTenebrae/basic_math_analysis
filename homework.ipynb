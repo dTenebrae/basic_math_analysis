{
 "cells": [
  {
   "cell_type": "markdown",
   "metadata": {},
   "source": [
    "1. Найти неопределенный интеграл\n",
    "\n",
    "$$ \\int(2x^2-2x-1+\\sin{x}-\\cos{x}+\\ln{x}+{e}^x)dx $$"
   ]
  },
  {
   "cell_type": "markdown",
   "metadata": {},
   "source": [
    "$ \\int(2x^2-2x-1+\\sin{x}-\\cos{x}+\\ln{x}+{e}^x)dx = 2\\int x^2dx-2\\int 2xdx-\\int 1\\cdot dx+\\int \\sin{x}dx-\\int cos{x}dx+\\int \\ln{x}dx+\\int{e}^xdx = \\frac{2x^3}{3}-x^2-x-\\cos{x}-\\sin{x}+{e}^x+x\\ln{x}-x+C = (*) $  \n",
    "\n",
    "Интеграл $ \\ln{x}dx $ можно решить методом интегрирования по частям  \n",
    "\n",
    "$ \\int{f(x)g'(x)dx} = f(x)g(x)-\\int{f'(x)g(x)dx} $  \n",
    "\n",
    "$ \\begin{array}{cc} f(x) = \\ln{x} & g(x) = x \\\\\n",
    "f'(x) = \\frac{1}{x} & g'(x) = 1 \n",
    "\\end{array}$  \n",
    "\n",
    "$ \\int{\\ln{x}} = x \\cdot \\ln{x} - \\int{\\frac{1}{x}xdx} = x\\ln{x}-x $\n",
    "\n",
    "\n",
    "\n",
    "$ (*) = \\mathbf{\\frac{2x^3}{3}-x^2-2x-\\cos{x}-\\sin{x}+{e}^x+x\\ln{x}+C} $  \n",
    "\n",
    "___"
   ]
  },
  {
   "cell_type": "markdown",
   "metadata": {},
   "source": [
    "2. Найти неопределенный интеграл\n",
    "\n",
    "$$ \\int(2x+6xz^2-5x^2y-3\\ln{z})dx $$"
   ]
  },
  {
   "cell_type": "markdown",
   "metadata": {},
   "source": [
    "$ \\int(2x+6xz^2-5x^2y-3\\ln{z})dx = 2\\int{xdx}+6z^2\\int{xdx}-5y\\int{x^2dx}-3\\ln{z}\\int1\\cdot{dx} = \\frac{2 \\cdot x^2}{2}+\\frac{6z^2 \\cdot x^2}{2}-\\frac{5y\\cdot x^3}{3}-3x\\ln{z}+C = $  \n",
    "$ \\mathbf{-\\frac{5x^3y}{3}+x^2(3z^2+1)-3x\\ln{z}}+C $\n",
    "___"
   ]
  },
  {
   "cell_type": "markdown",
   "metadata": {},
   "source": [
    "3. Вычислить определенный интеграл\n",
    "\n",
    "$$ \\int_0^{\\pi}3x^2\\sin(2x)dx $$"
   ]
  },
  {
   "cell_type": "markdown",
   "metadata": {},
   "source": [
    "Для вычисления по формуле Ньютона-Лейбница:  \n",
    "$$ \\int_a^b{f(t)dt} = F(b)-F(a) $$  \n",
    "\n",
    "найдем первообразную функции  \n",
    "\n",
    "$ \\int{3x^2\\sin(2x)dx} = 3\\int{x^2\\sin(2x)dx} = (*) $  \n",
    "по методу интегрирования по частям  \n",
    "\n",
    "$ \\begin{array}{cc} \n",
    "f(x) = x^2 & g(x) = -\\frac{1}{2}\\cos{2x} \\\\\n",
    "f'(x) = 2x & g'(x) = \\sin{2x} \n",
    "\\end{array}$  \n",
    "\n",
    "Первообразную g(x) можно найти следующим образом:  \n",
    "Пусть $t = 2x$, тогда $x = \\frac{1}{2}t$  \n",
    "$ \\int{\\sin{2x}dx} = \\int{\\sin{t}d\\frac{1}{2}t} = -\\frac{1}{2}\\cos{t}+C = -\\frac{1}{2}cos{2x}+C $\n",
    "\n",
    "Используя  \n",
    "$ \\int{f(x)g'(x)dx} = f(x)g(x)-\\int{f'(x)g(x)dx} $  \n",
    "\n",
    "Получим  \n",
    "$ (*) = 3(-\\frac{1}{2}x^2\\cos{2x}-\\int{2x(-\\frac{1}{2}cos{2x})dx}) = 3(-\\frac{1}{2}x^2\\cos{2x}+\\int{xcos{2x}dx}) $  \n",
    "\n",
    "Интеграл $\\int{xcos{2x}dx}$ аналогично найдем по частям  \n",
    "\n",
    "$ \\begin{array}{cc} \n",
    "f(x) = x & g(x) = \\frac{1}{2}\\sin{2x} \\\\\n",
    "f'(x) = 1 & g'(x) = \\cos{2x} \n",
    "\\end{array}$  \n",
    "\n",
    "$ \\int{xcos{2x}dx} = \\frac{1}{2}x\\sin{2x}-\\int{1\\cdot\\frac{1}{2}\\sin{2x}}dx = \\frac{1}{2}x\\sin{2x}-\\frac{1}{2}\\int{\\sin{2x}}dx = \\frac{1}{2}x\\sin{2x}-\\frac{1}{2}(-\\frac{1}{2}\\cos{2x})+C = \\frac{1}{2}x\\sin{2x}+\\frac{1}{4}\\cos{2x}+C $  \n",
    "\n",
    "$ 3(-\\frac{1}{2}x^2\\cos{2x}+\\int{xcos{2x}dx}) = 3(-\\frac{1}{2}x^2\\cos{2x}+\\frac{1}{2}x\\sin{2x}+\\frac{1}{4}\\cos{2x}+C) $  \n",
    "\n",
    "Значит,  \n",
    "\n",
    "$ \\mathbf{\\int{3x^2\\sin(2x)dx} = -\\frac{3}{4}(2x^2\\cos{2x}-2x\\sin{2x}-\\cos{2x}+C)} $  \n",
    "\n",
    "Теперь найдем определенный интеграл $ \\int_0^{\\pi}3x^2\\sin(2x)dx $  \n",
    "\n",
    "$ \\int_0^{\\pi}3x^2\\sin(2x)dx = -\\frac{3}{4}(2\\pi^2\\cos{2\\pi}-2\\pi\\sin{2\\pi}-\\cos{2\\pi}+C) - (-\\frac{3}{4}(2\\cdot 0^2\\cos{2\\cdot 0}-2\\cdot 0\\sin{2\\cdot 0}-\\cos{2\\cdot 0}+C)) = -\\frac{3}{4}(2\\pi^2-1+C)+\\frac{3}{4}(-1+C) = -\\frac{6\\pi^2}{4}-\\frac{3}{4}C+\\frac{3}{4}-\\frac{3}{4}+\\frac{3}{4}C = \\mathbf{-\\frac{3}{2}\\pi^2}$"
   ]
  },
  {
   "cell_type": "markdown",
   "metadata": {},
   "source": [
    "4. Найти неопределенный интеграл\n",
    "\n",
    "$$ \\int\\frac{1}{\\sqrt{x+1}}dx $$"
   ]
  },
  {
   "cell_type": "markdown",
   "metadata": {},
   "source": [
    "Данный интеграл можно найти, например, методом замены переменной  \n",
    "\n",
    "Пусть\n",
    "\n",
    "$ t = x+1 $  \n",
    "\n",
    "Тогда  \n",
    "\n",
    "$ x = t-1 $  \n",
    "$ dx = dt $  \n",
    "\n",
    "Отсюда  \n",
    "\n",
    "$ \\int \\frac{1}{\\sqrt{x+1}}dx = \\int \\frac{1}{\\sqrt{t}}dt = \\int{t^{-\\frac{1}{2}}}dt = \\frac{t^{-\\frac{1}{2}+1}}{-\\frac{1}{2}+1}+С = 2 \\cdot \\sqrt{t}+C = (*) $  \n",
    "\n",
    "Произведем обратную замену  \n",
    "\n",
    "$ (*) = \\mathbf{2\\sqrt{x+1}+C} $"
   ]
  }
 ],
 "metadata": {
  "kernelspec": {
   "display_name": "Python 3",
   "language": "python",
   "name": "python3"
  },
  "language_info": {
   "codemirror_mode": {
    "name": "ipython",
    "version": 3
   },
   "file_extension": ".py",
   "mimetype": "text/x-python",
   "name": "python",
   "nbconvert_exporter": "python",
   "pygments_lexer": "ipython3",
   "version": "3.8.5"
  },
  "varInspector": {
   "cols": {
    "lenName": 16,
    "lenType": 16,
    "lenVar": 40
   },
   "kernels_config": {
    "python": {
     "delete_cmd_postfix": "",
     "delete_cmd_prefix": "del ",
     "library": "var_list.py",
     "varRefreshCmd": "print(var_dic_list())"
    },
    "r": {
     "delete_cmd_postfix": ") ",
     "delete_cmd_prefix": "rm(",
     "library": "var_list.r",
     "varRefreshCmd": "cat(var_dic_list()) "
    }
   },
   "types_to_exclude": [
    "module",
    "function",
    "builtin_function_or_method",
    "instance",
    "_Feature"
   ],
   "window_display": false
  }
 },
 "nbformat": 4,
 "nbformat_minor": 4
}
