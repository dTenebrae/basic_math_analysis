{
 "cells": [
  {
   "cell_type": "code",
   "execution_count": 1,
   "metadata": {},
   "outputs": [],
   "source": [
    "import numpy as np\n",
    "import matplotlib.pyplot as plt\n",
    "import warnings\n",
    "warnings.simplefilter('ignore')\n",
    "%matplotlib inline"
   ]
  },
  {
   "cell_type": "markdown",
   "metadata": {},
   "source": [
    "### Практическое задание к уроку 4 ###\n",
    "\n",
    "1. Предложить пример функции, не имеющей предела в нуле и в бесконечностях.\n",
    "2. Привести пример функции, не имеющей предела в точке, но определенной в ней.\n",
    "3. Исследовать функцию $ f(x)=x^3-x^2 $ по плану:\n",
    "- Область задания и область значений.\n",
    "- Нули функции и их кратность.\n",
    "- Отрезки знакопостоянства.\n",
    "- Интервалы монотонности.\n",
    "- Четность функции.\n",
    "- Ограниченность.\n",
    "- Периодичность.\n",
    "4. Найти предел:\n",
    "- $ \\lim_{x \\to 0}\\frac{3x^3-2x^2}{4x^2} $\n",
    "- $ \\lim_{x \\to 0}\\frac{\\sqrt{1+x}-1}{\\sqrt[3]{1+x}-1} $\n",
    "- $ \\lim_{x \\to \\infty}(\\frac{x+3}{x})^{4x+1} $\n",
    "\n",
    "### Тема “Теоремы о пределах” ###\n",
    "\n",
    "Найти предел:\n",
    "- $ \\lim_{x \\to 0}\\frac{\\sin(2x)}{4x} $\n",
    "- $ \\lim_{x \\to 0}\\frac{x}{\\sin(x)} $\n",
    "- $ \\lim_{x \\to 0}\\frac{x}{\\arcsin(x)} $\n",
    "___"
   ]
  },
  {
   "cell_type": "markdown",
   "metadata": {},
   "source": [
    "#### 1. Предложить пример функции, не имеющей предела в нуле и в бесконечностях. ####\n",
    "\n",
    "$$ \\lim_{x \\to 0}{\\sin{\\frac{1}{x^2}}} $$\n",
    "___"
   ]
  },
  {
   "cell_type": "markdown",
   "metadata": {},
   "source": [
    "#### 2. Привести пример функции, не имеющей предела в точке, но определенной в ней. ####\n",
    "$$ \\lim_{x \\to 5}\\sqrt{x-5} $$\n",
    "___"
   ]
  },
  {
   "cell_type": "markdown",
   "metadata": {},
   "source": [
    "Исследовать функцию"
   ]
  },
  {
   "cell_type": "markdown",
   "metadata": {},
   "source": [
    "$$ f(x)=x^3 - x^2 $$"
   ]
  },
  {
   "cell_type": "code",
   "execution_count": 40,
   "metadata": {},
   "outputs": [
    {
     "data": {
      "image/png": "[encoded data removed]",
      "text/plain": [
       "<Figure size 288x432 with 1 Axes>"
      ]
     },
     "metadata": {
      "needs_background": "light"
     },
     "output_type": "display_data"
    }
   ],
   "source": [
    "plt.figure(figsize=(4,6))\n",
    "x = np.linspace(-1000, 1000, 10000)\n",
    "y = np.power(x, 3) - x ** 2\n",
    "plt.plot(x, y, lw=3)\n",
    "plt.axhline(color='black', lw=1)\n",
    "plt.axvline(color='black', lw=1)\n",
    "plt.show()"
   ]
  },
  {
   "cell_type": "code",
   "execution_count": 13,
   "metadata": {},
   "outputs": [
    {
     "data": {
      "image/png": "[encoded data removed]",
      "text/plain": [
       "<Figure size 360x432 with 1 Axes>"
      ]
     },
     "metadata": {
      "needs_background": "light"
     },
     "output_type": "display_data"
    }
   ],
   "source": [
    "plt.figure(figsize=(5,6))\n",
    "x = np.linspace(-1.2, 1.2, 10000)\n",
    "y = np.power(x, 3) - x ** 2\n",
    "plt.plot(x, y)\n",
    "plt.axhline(color='black', lw=1)\n",
    "plt.axvline(color='black', lw=1)\n",
    "plt.show()"
   ]
  },
  {
   "cell_type": "markdown",
   "metadata": {},
   "source": [
    "- Область задания и область значений."
   ]
  },
  {
   "cell_type": "markdown",
   "metadata": {},
   "source": [
    "$$ D(f) = (-\\infty;+\\infty), \\forall x \\in (-\\infty;+\\infty) $$"
   ]
  },
  {
   "cell_type": "markdown",
   "metadata": {},
   "source": [
    "- Нули функции и их кратность."
   ]
  },
  {
   "cell_type": "markdown",
   "metadata": {},
   "source": [
    "$$ f(x) = 0 $$\n",
    "$$ x^3-x^2 = x^2(x-1) = 0 $$\n",
    "$$ x=1, x=0 $$"
   ]
  },
  {
   "cell_type": "markdown",
   "metadata": {},
   "source": [
    "- Отрезки знакопостоянства."
   ]
  },
  {
   "cell_type": "markdown",
   "metadata": {},
   "source": [
    "$$ f(x)>0 \\forall x \\in (1;+\\infty) $$\n",
    "$$ f(x)<0 \\forall x \\in (-\\infty;0) \\lor (0;1) $$"
   ]
  },
  {
   "cell_type": "markdown",
   "metadata": {},
   "source": [
    "- Интервалы монотонности.  \n",
    "Функция монотонна на всей области определения\n",
    "\n",
    "Для того, чтобы точно определить интервалы монотонности, воспользуемся тем, что границы этих интервалов являются точками локального экстремума. То есть тангенс угла касательной к графику функции в данной точке будет равен 0. А значит нам нужно найти нули производной функции  \n",
    "\n",
    "$$ f'(x) = 0 $$\n",
    "$$ (x^3-x^2)' = (x^3)'-(x^2)' = 3x^2 - 2x = 0$$\n",
    "$$ x = 0, x = \\frac{2}{3} $$\n",
    "\n",
    "$ f(x) $ возрастает $ \\forall x \\in (-\\infty;0) \\lor [\\frac{2}{3};+\\infty) $  \n",
    "$ f(x) $ убывает $ \\forall x \\in (0;\\frac{2}{3}] $ "
   ]
  },
  {
   "cell_type": "markdown",
   "metadata": {},
   "source": [
    "- Четность функции.  \n",
    "Функция является функцией общего вида, поскольку:  \n",
    "$$ f(-x) = (-x)^3-(-x)^2 = -x^3-x^2 $$\n",
    "$$ f(-x) \\neq f(x) $$\n",
    "$$ f(-x) \\neq -f(x) $$"
   ]
  },
  {
   "cell_type": "markdown",
   "metadata": {},
   "source": [
    "- Ограниченность.  \n",
    "Функция неограничена на всей области определения"
   ]
  },
  {
   "cell_type": "markdown",
   "metadata": {},
   "source": [
    "- Периодичность.  \n",
    "Функция не является периодической, так как \n",
    "$$ f(x) = f(x+T) = f(x-T) \\nexists T \\in (-\\infty;0)\\lor(0;+\\infty) $$"
   ]
  },
  {
   "cell_type": "markdown",
   "metadata": {},
   "source": [
    "___"
   ]
  },
  {
   "cell_type": "markdown",
   "metadata": {},
   "source": [
    "Найти предел:  "
   ]
  },
  {
   "cell_type": "markdown",
   "metadata": {},
   "source": [
    "$$ \\lim_{x \\to 0}\\frac{3x^3-2x^2}{4x^2} $$"
   ]
  },
  {
   "cell_type": "markdown",
   "metadata": {},
   "source": [
    "имеем неопределенность вида $ \\frac{0}{0} $  \n",
    "\n",
    "$ \\lim_{x \\to 0}\\frac{x^2(3x - 2)}{4x^2}=\\lim_{x \\to 0}\\frac{3x - 2}{4}=-\\frac{1}{2} $\n",
    "___"
   ]
  },
  {
   "cell_type": "markdown",
   "metadata": {},
   "source": [
    "$$ \\lim_{x \\to 0}\\frac{\\sqrt{1+x}-1}{\\sqrt[3]{1+x}-1} $$  \n",
    "Имеем неопределенность вида $\\frac{0}{0}$\n",
    "\n",
    "Воспользуемся следующим:  \n",
    "$ a^2 - b^2 = (a-b)(a+b) $  \n",
    "$ a^3 - b^3 = (a-b)(a^2+ab+b^2) $  \n",
    "Для числителя $ a=\\sqrt{1+x}, b=1 $  \n",
    "Для знаменателя $ a=\\sqrt[3]{1+x}, b=1 $ соответственно  \n",
    "Домножим на сопряженные множители:  \n",
    "$ \\lim_{x \\to 0}\\frac{(\\sqrt{1+x}-1)(\\sqrt{1+x}+1)(\\sqrt[3]{(1+x)}^2+\\sqrt[3]{1+x}+1)}{(\\sqrt[3]{1+x}-1)(\\sqrt[3]{(1+x)}^2+\\sqrt[3]{1+x}+1)(\\sqrt{1+x}+1)} = \\lim_{x \\to 0}\\frac{(\\sqrt{(1+x)^2}-1^2)(\\sqrt[3]{(1+x)}^2+\\sqrt[3]{1+x}+1)}{(\\sqrt[3]{(1+x)^3}-1^3)(\\sqrt{1+x}+1)} = \\lim_{x \\to 0}\\frac{\\sqrt[3]{(1+x)}^2+\\sqrt[3]{1+x}+1}{\\sqrt{1+x}+1} = \\frac{3}{2}$\n",
    "___"
   ]
  },
  {
   "cell_type": "markdown",
   "metadata": {},
   "source": [
    "$$ \\lim_{x \\to \\infty}(\\frac{x+3}{x})^{4x+1} $$"
   ]
  },
  {
   "cell_type": "markdown",
   "metadata": {},
   "source": [
    "Преобразуем выражение:  \n",
    "$ \\lim_{x \\to \\infty}(\\frac{x+3}{x})^{4x+1} = \\lim_{x \\to \\infty}(1+\\frac{3}{x})^{4x+1} = (*)$  \n",
    "Имеем неопределенность вида $ 1^{\\infty} $, применим второй замечательный предел  \n",
    "$ (*) = \\lim_{x \\to \\infty}(1+\\frac{1}{(\\frac{x}{3})})^{4x+1} = \\lim_{x \\to \\infty}(1+\\frac{1}{(\\frac{x}{3})})^{(\\frac{x}{3})(\\frac{3}{x})(4x+1)} = {e}^{\\lim_{x \\to \\infty}(12+\\frac{3}{x})} = {e}^{12} $\n",
    "___"
   ]
  },
  {
   "cell_type": "markdown",
   "metadata": {},
   "source": [
    "$$ \\lim_{x \\to 0}\\frac{\\sin(2x)}{4x} $$"
   ]
  },
  {
   "cell_type": "markdown",
   "metadata": {},
   "source": [
    "имеем неопределенность вида $ \\frac{0}{0} $  \n",
    "\n",
    "$ \\lim_{x \\to 0}\\frac{\\sin(2x)}{4x} = \\lim_{x \\to 0}\\frac{\\sin(2x)}{2(2x)} = \\frac{1}{2}$\n",
    "___"
   ]
  },
  {
   "cell_type": "markdown",
   "metadata": {},
   "source": [
    "$$ \\lim_{x \\to 0}\\frac{x}{\\sin(x)} $$"
   ]
  },
  {
   "cell_type": "markdown",
   "metadata": {},
   "source": [
    "Это разновидность первого замечательного предела, соответственно:  \n",
    "$ \\lim_{x \\to 0}\\frac{x}{\\sin(x)} = 1 $\n",
    "___"
   ]
  },
  {
   "cell_type": "markdown",
   "metadata": {},
   "source": [
    "$$ \\lim_{x \\to 0}\\frac{x}{\\arcsin(x)} $$"
   ]
  },
  {
   "cell_type": "markdown",
   "metadata": {},
   "source": [
    "$ \\arcsin{x} = \\frac{1}{\\sin{x}} $  \n",
    "Следовательно,  \n",
    "\n",
    "$ \\lim_{x \\to 0}\\frac{x}{\\arcsin(x)} = \\lim_{x \\to 0}x\\sin(x) = 0 $"
   ]
  }
 ],
 "metadata": {
  "kernelspec": {
   "display_name": "Python 3",
   "language": "python",
   "name": "python3"
  },
  "language_info": {
   "codemirror_mode": {
    "name": "ipython",
    "version": 3
   },
   "file_extension": ".py",
   "mimetype": "text/x-python",
   "name": "python",
   "nbconvert_exporter": "python",
   "pygments_lexer": "ipython3",
   "version": "3.8.5"
  }
 },
 "nbformat": 4,
 "nbformat_minor": 4
}
