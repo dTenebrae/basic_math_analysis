{
 "cells": [
  {
   "cell_type": "code",
   "execution_count": 1,
   "metadata": {},
   "outputs": [],
   "source": [
    "import matplotlib.pyplot as plt\n",
    "import numpy as np\n",
    "%matplotlib inline"
   ]
  },
  {
   "cell_type": "markdown",
   "metadata": {},
   "source": [
    "1. Исследовать ряд на сходимость, используя признак д’Аламбера:  \n",
    "$$ \\sum_{n=1}^\\infty{\\frac{n^n}{(n!)^2}} $$"
   ]
  },
  {
   "cell_type": "markdown",
   "metadata": {},
   "source": [
    "Признак д'Аламбера гласит, что  \n",
    "\n",
    "$ \\lim_{n\\to\\infty}\\frac{a_{n+1}}{a_n}=q $  \n",
    "\n",
    "Если $q<1$ то ряд сходится, если $q>1$ - расходится. При q=1 - требуются дополнительные исследования  \n",
    "\n",
    "В нашем случае  \n",
    "$ \\lim_{n\\to\\infty}{\\frac{\\frac{(n+1)^{(n+1)}}{((n+1)!)^2}}{\\frac{n^n}{(n!)^2}}} = \\lim_{n\\to\\infty}{\\frac{(n+1)^{(n+1)}}{((n+1)!)^2} \\cdot \\frac{(n!)^2}{n^n}} = \\lim_{n\\to\\infty}{\\frac{(n+1)^{(n+1)}}{((n+1)!)^2} \\cdot \\frac{(n!)^2}{n^n}} = \\lim_{n\\to\\infty}{\\frac{(n+1)^{(n+1)}}{(n!)^2\\cdot(n+1)^2} \\cdot \\frac{(n!)^2}{n^n}} = \\lim_{n\\to\\infty}{\\frac{(n+1)^{(n-1)}}{n^n}} $  \n",
    "\n",
    "Видим, что максимальная степень n в числителе меньше чем в знаменателе, а значит при n стремящемся к бесконечности предел будет стремиться к 0\n",
    "\n",
    "$ q=0 \\Rightarrow q<1 $, а значит ряд сходится\n",
    "___"
   ]
  },
  {
   "cell_type": "markdown",
   "metadata": {},
   "source": [
    "2. Исследовать ряд на сходимость, используя радикальный признак Коши:  \n",
    "\n",
    "$$ \\sum_{n=1}^{\\infty}{\\frac{n}{2^n}} $$"
   ]
  },
  {
   "cell_type": "markdown",
   "metadata": {},
   "source": [
    "Радикальный признак Коши говорит, что  \n",
    "\n",
    "Если,  \n",
    "\n",
    "$ \\lim_{n\\to\\infty}{\\sqrt[n]{a_n}} = q $  \n",
    "то при  \n",
    "$ q<1 $ - ряд сходится  \n",
    "$ q>1 $ - ряд расходится  \n",
    "$ q=1 $ - требуются дополнительные исследования  \n",
    "\n",
    "$ \\lim_{n\\to\\infty}{\\sqrt[n]{\\frac{n}{2^n}}} = \\frac{1}{2}\\lim_{n\\to\\infty}{\\sqrt[n]{n}} = \\frac{1}{2} $  \n",
    "$ q=\\frac{1}{2} \\Rightarrow q < 1 $ А значит ряд сходится  \n",
    "___"
   ]
  },
  {
   "cell_type": "markdown",
   "metadata": {},
   "source": [
    "3. Исследовать ряд на сходимость, используя признак Лейбница:  \n",
    "\n",
    "$$ \\sum_{n=1}^{\\infty}{\\frac{(-1)^n}{n+\\ln{n}}} $$  \n",
    "\n",
    "\n",
    "$ \\sum_{n=1}^{\\infty}{\\frac{(-1)^n}{n+\\ln{n}}} = \\sum_{n=1}^{\\infty}(-1)^n \\cdot {\\frac{1}{n+\\ln{n}}} $ - ряд знакочередующийся  \n",
    "\n",
    "$ \\lim_{n\\to\\infty}{\\frac{1}{n+\\ln{n}}} = 0 $  - ряд убывает  \n",
    "\n",
    "Проверим монотонность убывания:  \n",
    "\n",
    "$ \\frac{1}{n+\\ln{n}}-\\frac{1}{(n+1)+\\ln(n+1)} = \\frac{n+1+\\ln(n+1)-n-\\ln{n}}{(n+\\ln{n})\\cdot((n+1)+\\ln(n+1))} = \\frac{(1+\\ln\\frac{n+1}{n})}{(n+\\ln{n})\\cdot((n+1)+\\ln(n+1))} \n",
    "= \\frac{1+\\ln(1+\\frac{1}{n})}{(n+\\ln{n})\\cdot((n+1)+\\ln(n+1))} > 0 \\Rightarrow a_n>a_{n+1} $  \n",
    "\n",
    "Первое условие признака Лейбница выполнено, значит ряд сходится\n",
    "\n",
    "Теперь проверим сходимость ряда $ \\sum_{n=1}^{\\infty}|a_n| $. Для этого воспользуемся предельным признаком сходимости  \n",
    "\n",
    "Воспользуемся гармоническим рядом $ \\sum_{n=1}^\\infty{\\frac{1}{n}} $  \n",
    "\n",
    "Тогда,\n",
    "\n",
    "$ \\lim_{n\\to\\infty}\\big(\\frac{1}{n}\\div\\frac{1}{n+\\ln{n}}\\big) = \\lim_{n\\to\\infty}\\big(\\frac{n+\\ln{n}}{n}\\big) = \\lim_{n\\to\\infty}\\big(1+\\frac{\\ln{n}}{n}\\big) = 1 $  \n",
    "\n",
    "Так как гармонический ряд расходится, то ряд $\\sum_{n=1}^\\infty{\\frac{1}{n+\\ln{n}}}$ также расходится  \n",
    "\n",
    "Вывод:  \n",
    "\n",
    "Ряд $ \\sum_{n=1}^{\\infty}{\\frac{(-1)^n}{n+\\ln{n}}} $ сходится условно  \n",
    "___"
   ]
  },
  {
   "cell_type": "markdown",
   "metadata": {},
   "source": [
    "4. Исследовать ряд на сходимость, используя признак Раабе:  \n",
    "\n",
    "$$ \\sum_{n=1}^{\\infty}{\\frac{3^n}{2^n}} $$  \n",
    "\n",
    "По признаку Раабе:  \n",
    "\n",
    "Если существует предел $ \\lim_{n\\to\\infty}\\bigg(n\\cdot\\big(\\frac{a_n}{a_{n+1}}-1\\big)\\bigg) = D $  \n",
    "То,\n",
    "\n",
    "При $D<1$ - ряд расходится  \n",
    "При $D>1$ - ряд сходится  \n",
    "При $D=1$ - Нужны дополнительные исследования  \n",
    "\n",
    "Отсюда,\n",
    "\n",
    "$ D = \\lim_{n\\to\\infty}\\bigg( n\\cdot \\big( \\frac{3^n}{2^n}\\div\\frac{3^{n+1}}{2^{n+1}}-1 \\big) \\bigg) = \\lim_{n\\to\\infty}\\bigg( n\\cdot \\big( \\frac{3^n}{2^n}\\cdot\\frac{2^{n+1}}{3^{n+1}}-1 \\big) \\bigg) = \\lim_{n\\to\\infty}\\bigg( n\\cdot \\big( \\frac{2}{3}-1 \\big) \\bigg) = \\lim_{n\\to\\infty}\\bigg( -\\frac{1}{3}\\cdot n \\bigg) \n",
    "= -\\infty $  \n",
    "\n",
    "Следовательно $D<1$, а значит ряд расходится\n",
    "___"
   ]
  },
  {
   "cell_type": "markdown",
   "metadata": {},
   "source": [
    "5. Разложить функцию по Тейлору в единице:  \n",
    "\n",
    "$$ f(x) = \\ln(16x^2) $$  \n",
    "\n",
    "Ряд Тейлора выглядит следующим образом  \n",
    "\n",
    "$ f(x) = \\sum_{n=0}^\\infty{\\frac{f^{(n)}(a)}{n!}(x-a)^n} $  \n",
    "\n",
    "Значит, $f(x)$ в точке 0  \n",
    "\n",
    "$ f(x) = \\ln{16}+2(x-1) $  \n",
    "___"
   ]
  },
  {
   "cell_type": "markdown",
   "metadata": {},
   "source": [
    "6.  Дана функция:  \n",
    "\n",
    "$$ f(x) = x^2 $$\n",
    "\n",
    "- Разложить функцию в ряд Фурье по косинусам на отрезке $ x \\in [-\\pi;\\pi] $  \n",
    "- Построить график функции и ее разложения  \n",
    "\n",
    "$ f(x) \\sim \\frac{a_0}{2}+\\sum_{n=1}^\\infty(a_n\\cos{nx}+b_n\\sin{nx}) $ на отрезке $[-\\pi;\\pi]$  \n",
    "\n",
    "$ a_0 = \\frac{1}{\\pi}\\int_{-\\pi}^{\\pi}{f(x)dx} $  \n",
    "$ a_n = \\frac{1}{\\pi}\\int_{-\\pi}^{\\pi}{f(x)\\cos{nx}dx} $  \n",
    "$ b_n = \\frac{1}{\\pi}\\int_{-\\pi}^{\\pi}{f(x)\\sin{nx}dx} $  \n",
    "\n",
    "Так как функция $f(x)=x^2$ является четной, то разложение в ряд Фурье для нее не содержит элемента $b_n$ и выглядит как  \n",
    "\n",
    "$ f(x) \\sim \\frac{a_0}{2}+\\sum_{n=1}^\\infty a_n\\cos{nx} $  \n",
    "\n",
    "Коэффициенты $a_0, a_n$ в этом случае выглядят как  \n",
    "\n",
    "$ a_0 = \\frac{2}{\\pi}\\int_{0}^{\\pi}{f(x)dx} $  \n",
    "$ a_n = \\frac{2}{\\pi}\\int_{0}^{\\pi}{f(x)\\cos{nx}dx} $  \n",
    "\n",
    "Найдем коэффициенты  \n",
    "\n",
    "$ a_0 = \\left.\\frac{2}{\\pi}\\int_{0}^{\\pi}{x^2dx} = \\frac{2}{\\pi}(\\frac{x^3}{3})\\right|_0^\\pi = \\frac{2\\pi^2}{3} $  \n",
    "\n",
    "$ a_n = \\frac{2}{\\pi}\\int_{0}^{\\pi}{x^2\\cos{nx}dx} $  \n",
    "\n",
    "Применим интегрирование по частям  \n",
    "\n",
    "$ \\left[ {\\begin{array}{cc}\n",
    "{u = {x^2}} & {v =\\frac{{1}}{n}\\sin nx} \\\\\n",
    "{du = 2xdx} & {dv=\\cos nxdx}\\\\\n",
    "\\end{array}} \\right] $  \n",
    "\n",
    "$ a_n = \\left.\\frac{2}{\\pi}\\big(\\frac{1}{n}x^2\\sin nx\\right|_0^\\pi-\\frac{2}{n}\\int_0^\\pi{x\\sin nx dx} \\big) = \\left.\\frac{2}{\\pi n}\\big(x^2\\sin nx\\right|_0^\\pi-2\\int_0^\\pi{x\\sin nx dx} \\big) $  \n",
    "\n",
    "$ \\left.x^2\\sin nx\\right|_0^\\pi $ будет равен 0, так как $\\sin{n\\pi} = 0$ для натуральных n  \n",
    "\n",
    "Также по частям найдем $ \\int_0^\\pi{x\\sin nx dx} $  \n",
    "\n",
    "$ \\left[ {\\begin{array}{cc}\n",
    "{u = {x}} & {v =-\\frac{{1}}{n}\\cos nx} \\\\\n",
    "{du = 1} & {dv=\\sin nxdx}\\\\\n",
    "\\end{array}} \\right] $  \n",
    "\n",
    "$ a_n = \\frac{2}{\\pi n}\\big(-2(-\\frac{1}{n}x\\cos nx + \\frac{1}{n}\\int_0^\\pi{\\cos nx dx})\\big) = \\left.\\frac{4}{\\pi n^2}\\big(x\\cos nx\\right|_0^\\pi + \\int_0^\\pi{\\cos nx dx})\\big) = \\frac{4}{\\pi n^2}\\big(\\pi\\cos n\\pi +\\left.\\frac{1}{n}\\sin nx\\right|_0^\\pi\\big) $  \n",
    "\n",
    "Здесь, $\\left.\\frac{1}{n}\\sin nx\\right|_0^\\pi = 0$ для всех натуральных n  \n",
    "$\\pi\\cos n\\pi = \\pi \\cdot (-1)^n$\n",
    "\n",
    "Отсюда  \n",
    "\n",
    "$ a_n = \\frac{4}{\\pi n^2}\\cdot \\pi \\cdot (-1)^n = \\frac{4}{n^2} \\cdot (-1)^n $  \n",
    "\n",
    "Итого, разложение функции $f(x)=x^2$ на ряд Фурье будет выглядеть как \n",
    "\n",
    "$ f(x) \\sim \\frac{\\pi^2}{3}+\\sum_{n=1}^\\infty \\frac{4}{n^2} \\cdot (-1)^n\\cos{nx} $"
   ]
  },
  {
   "cell_type": "code",
   "execution_count": 22,
   "metadata": {},
   "outputs": [
    {
     "data": {
      "image/png": "[encoded data removed]",
      "text/plain": [
       "<Figure size 576x576 with 1 Axes>"
      ]
     },
     "metadata": {
      "needs_background": "light"
     },
     "output_type": "display_data"
    }
   ],
   "source": [
    "def fourier_x2(n, x):\n",
    "    return (4/n**2)*((-1)**n)*np.cos(n*x)\n",
    "\n",
    "plt.figure(figsize=(8, 8))\n",
    "num = 4\n",
    "x = np.linspace(-np.pi, np.pi, 1000)\n",
    "y1 = x**2\n",
    "y2 = np.pi**2/3 + sum([fourier_x2(n, x) for n in range(1, num+1)])\n",
    "\n",
    "plt.plot(x, y1, lw=1, color='blue', label='f(x)=x^2')\n",
    "plt.plot(x, y2, lw=1, color='red', label=f'Fourier n={num}')\n",
    "\n",
    "plt.axvline(color='black', lw=1.5)\n",
    "plt.axhline(color='black', lw=1.5)\n",
    "plt.grid('true')\n",
    "plt.legend(loc='best')\n",
    "plt.show()"
   ]
  }
 ],
 "metadata": {
  "kernelspec": {
   "display_name": "Python 3",
   "language": "python",
   "name": "python3"
  },
  "language_info": {
   "codemirror_mode": {
    "name": "ipython",
    "version": 3
   },
   "file_extension": ".py",
   "mimetype": "text/x-python",
   "name": "python",
   "nbconvert_exporter": "python",
   "pygments_lexer": "ipython3",
   "version": "3.8.5"
  },
  "varInspector": {
   "cols": {
    "lenName": 16,
    "lenType": 16,
    "lenVar": 40
   },
   "kernels_config": {
    "python": {
     "delete_cmd_postfix": "",
     "delete_cmd_prefix": "del ",
     "library": "var_list.py",
     "varRefreshCmd": "print(var_dic_list())"
    },
    "r": {
     "delete_cmd_postfix": ") ",
     "delete_cmd_prefix": "rm(",
     "library": "var_list.r",
     "varRefreshCmd": "cat(var_dic_list()) "
    }
   },
   "types_to_exclude": [
    "module",
    "function",
    "builtin_function_or_method",
    "instance",
    "_Feature"
   ],
   "window_display": false
  }
 },
 "nbformat": 4,
 "nbformat_minor": 4
}
