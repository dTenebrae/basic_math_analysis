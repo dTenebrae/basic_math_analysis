{
 "cells": [
  {
   "cell_type": "code",
   "execution_count": 1,
   "metadata": {},
   "outputs": [],
   "source": [
    "import numpy as np\n",
    "import matplotlib.pyplot as plt\n",
    "%matplotlib inline"
   ]
  },
  {
   "cell_type": "markdown",
   "metadata": {},
   "source": [
    "1. Найти область определения функции:  \n",
    "\n",
    "$$ z = \\sqrt{1-x^3}+\\ln(y^2-1) \\tag{1}$$"
   ]
  },
  {
   "cell_type": "markdown",
   "metadata": {},
   "source": [
    "Функция (1) определена при  \n",
    "\n",
    "$ x \\in (-\\infty;1] \\wedge y \\in (1;+\\infty) $\n",
    "___"
   ]
  },
  {
   "cell_type": "markdown",
   "metadata": {},
   "source": [
    "2. Найти производные 1-го порядка функции:  \n",
    "\n",
    "$$ z = (1+\\frac{\\ln{x}}{\\ln{y}})^3 \\tag{2}$$"
   ]
  },
  {
   "cell_type": "markdown",
   "metadata": {},
   "source": [
    "$ z'_x = ((1+\\frac{\\ln{x}}{\\ln{y}})^3)'_x(1+\\frac{\\ln{x}}{\\ln{y}})'_x = \\frac{3(1+\\frac{\\ln{x}}{\\ln{y}})^2}{x\\ln{y}}$\n",
    "\n",
    "$ z'_y = ((1+\\frac{\\ln{x}}{\\ln{y}})^3)'_y(1+\\frac{\\ln{x}}{\\ln{y}})'_y = {3(1+\\frac{\\ln{x}}{\\ln{y}})^2}\\ln{x}(\\ln{y})^{-1})' = {3(1+\\frac{\\ln{x}}{\\ln{y}})^2}\\ln{x}(-\\frac{1}{\\ln^2{y}}\\cdot\\frac{1}{y}) = -\\frac{3\\ln{x}(1+\\frac{\\ln{x}}{\\ln{y}})^2}{y\\ln^2{y}} $\n",
    "___"
   ]
  },
  {
   "cell_type": "markdown",
   "metadata": {},
   "source": [
    "3. Найти полный дифференциал функции в точке (1;1)  \n",
    "\n",
    "$$ z = \\sqrt{2xy+\\cos{\\frac{x}{y}}} \\tag{3}$$"
   ]
  },
  {
   "cell_type": "markdown",
   "metadata": {},
   "source": [
    "Полный дифференциал функции представляет из себя  \n",
    "\n",
    "$ dz = \\frac{\\partial z}{\\partial x}dx + \\frac{\\partial z}{\\partial y}dy $  \n",
    "\n",
    "Найдем частные производные первого порядка  \n",
    "$ \\frac{\\partial z}{\\partial x} = \\frac{1}{2\\sqrt{2xy+\\cos{\\frac{x}{y}}}}(2y-\\frac{\\sin{\\frac{x}{y}}}{y}) = \\frac{2y^2-\\sin{\\frac{x}{y}}}{2y\\sqrt{2xy+\\cos{\\frac{x}{y}}}}$  \n",
    "\n",
    "$ \\frac{\\partial z}{\\partial y} = \\frac{1}{2\\sqrt{2xy+\\cos{\\frac{x}{y}}}}(2x+\\frac{x\\sin{\\frac{x}{y}}}{y^2}) = \\frac{2xy^2+x\\sin{\\frac{x}{y}}}{2y^2\\sqrt{2xy+cos{\\frac{x}{y}}}} $  \n",
    "\n",
    "Найдем полный дифференциал в точке (1;1)  \n",
    "\n",
    "$ dz(1;1) = \\frac{2-\\sin{1}}{2\\sqrt{2+\\cos{1}}}dx+\\frac{2+\\sin{1}}{2\\sqrt{2+\\cos{1}}}dy \\approx 0.36dx+0.89dy $\n",
    "\n",
    "Значит функция возрастает по обеим переменным в точке (1;1)\n",
    "___"
   ]
  },
  {
   "cell_type": "markdown",
   "metadata": {},
   "source": [
    "4. Исследовать на экстремум функцию  \n",
    "\n",
    "$$ z = x^2+xy+y^2-6x-9y \\tag{4}$$"
   ]
  },
  {
   "cell_type": "markdown",
   "metadata": {},
   "source": [
    "$ \\frac{\\partial z}{\\partial x} = 2x+y-6 $  \n",
    "$ \\frac{\\partial z}{\\partial y} = x+2y-9 $  \n",
    "\n",
    "Найдем точки, удовлетворяющие необходимому условию на экстремум  \n",
    "\n",
    "$ \\begin{cases}\n",
    "x+2y-9 = 0 \\\\\n",
    "2x+y-6=0 \n",
    "\\end{cases} \\Rightarrow \n",
    "\\begin{cases} \n",
    "x = 9-2y \\\\\n",
    "2(9-2y)+y-6=0\n",
    "\\end{cases} \\Rightarrow \n",
    "\\begin{cases}\n",
    "x = 1 \\\\\n",
    "y = 4\n",
    "\\end{cases}$  \n",
    "\n",
    "Получили точку $M_0(1;4)$  \n",
    "\n",
    "Проверим ее на достаточное условие. Найдем частные производные второго порядка  \n",
    "\n",
    "$ z''_{xx} = 2 $  \n",
    "$ z''_{yy} = 2 $  \n",
    "$ z''_{xy} = 1 $  \n",
    "$ z''_{yx} = 1 $  \n",
    "\n",
    "$ \\left(\\begin{array}{cc}\n",
    "z''_{xx} & z''_{xy} \\\\\n",
    "z''_{yx} & z''_{yy}\n",
    "\\end{array}\\right) \\Rightarrow\n",
    "\\left(\\begin{array}{cc}\n",
    "2 & 1 \\\\\n",
    "1 & 2\n",
    "\\end{array}\\right)\n",
    "$  \n",
    "\n",
    "$\\Delta = 2 \\cdot 2 - 1 \\cdot 1 = 3 > 0 $  \n",
    "\n",
    "Делаем вывод, что в точке $M_0$ есть экстремум и это минимум, так как $z''_{xx}>0$"
   ]
  }
 ],
 "metadata": {
  "kernelspec": {
   "display_name": "Python 3",
   "language": "python",
   "name": "python3"
  },
  "language_info": {
   "codemirror_mode": {
    "name": "ipython",
    "version": 3
   },
   "file_extension": ".py",
   "mimetype": "text/x-python",
   "name": "python",
   "nbconvert_exporter": "python",
   "pygments_lexer": "ipython3",
   "version": "3.8.5"
  },
  "varInspector": {
   "cols": {
    "lenName": 16,
    "lenType": 16,
    "lenVar": 40
   },
   "kernels_config": {
    "python": {
     "delete_cmd_postfix": "",
     "delete_cmd_prefix": "del ",
     "library": "var_list.py",
     "varRefreshCmd": "print(var_dic_list())"
    },
    "r": {
     "delete_cmd_postfix": ") ",
     "delete_cmd_prefix": "rm(",
     "library": "var_list.r",
     "varRefreshCmd": "cat(var_dic_list()) "
    }
   },
   "types_to_exclude": [
    "module",
    "function",
    "builtin_function_or_method",
    "instance",
    "_Feature"
   ],
   "window_display": false
  }
 },
 "nbformat": 4,
 "nbformat_minor": 4
}
