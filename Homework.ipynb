{
 "cells": [
  {
   "cell_type": "markdown",
   "metadata": {},
   "source": [
    "Найти предел:\n",
    "\n",
    "$$ \\lim_{x \\to \\infty}(\\frac{4x+3}{4x-3})^{6x} = (*) $$\n",
    "___\n",
    "$ (*) = \\lim_{x \\to \\infty}(\\frac{(4x-3)+6}{4x-3})^{6x} = \\lim_{x \\to \\infty}(1 + \\frac{6}{4x-3})^{6x} $\n",
    "\n",
    "Имеем неопределенность вида $1^{\\infty}$  \n",
    "\n",
    "$ \\lim_{x \\to \\infty}(1 + \\frac{1}{(\\frac{4x-3}{6})})^{6x} = \\lim_{x \\to \\infty}(1 + \\frac{1}{(\\frac{4x-3}{6})})^{(\\frac{4x-3}{6})(\\frac{6}{4x-3})6x} = {e}^{\\lim_{x \\to \\infty}\\frac{36x}{4x-3}} = {e}^{\\lim_{x \\to \\infty}\\frac{36}{4-\\frac{3}{x}}} = e^9 $  \n",
    "___"
   ]
  },
  {
   "cell_type": "markdown",
   "metadata": {},
   "source": [
    "$$ \\lim_{x \\to \\infty}\\frac{\\sin{x}+\\ln{x}}{x} =(*)$$\n",
    "\n",
    "$ (*) = \\lim_{x \\to \\infty}\\frac{\\sin{x}}{x}+\\lim_{x \\to \\infty}\\frac{\\ln{x}}{x} $  \n",
    "\n",
    "Оба этих предела равны нулю, а значит и исходный  \n",
    "\n",
    "$ \\lim_{x \\to \\infty}\\frac{\\sin{x}+\\ln{x}}{x} = 0$\n",
    "___"
   ]
  },
  {
   "cell_type": "markdown",
   "metadata": {},
   "source": [
    "$$ \\lim_{x \\to 0}\\frac{\\sin{(x)}+\\ln{(x)}}{x} = (*)$$  \n",
    "\n",
    "$ (*) = \\lim_{x \\to 0}\\frac{\\sin(x)}{x}+\\lim_{x \\to 0}\\frac{\\ln(x)}{x} = 1 + \\lim_{x \\to 0}\\frac{\\ln(x)}{x} = -\\infty$\n",
    "___"
   ]
  },
  {
   "cell_type": "markdown",
   "metadata": {},
   "source": [
    "Найти производную выражения:  \n",
    "\n",
    "$$ \\sin{x}\\cos{x} $$  \n",
    "\n",
    "\n",
    "$ (u(x)v(x))' = u'(x)v(x)+u(x)v'(x) $  \n",
    "\n",
    "$ (\\sin{x}\\cos{x})' = sin'{x}cos{x}+sin{x}cos'{x} = cos^2{x}-sin^2{x}=(*) $\n",
    "\n",
    "Результат можно представить в виде  \n",
    "$(*) = cos^2{x}-(1-cos^2{x}) = 2cos^2{x}-1$\n",
    "___"
   ]
  },
  {
   "cell_type": "markdown",
   "metadata": {},
   "source": [
    "$$ \\ln(2x+1)^3 $$\n",
    "\n",
    "$ u(v(x))' = u'(v(x))v'(x) $  \n",
    "\n",
    "$ (\\ln(2x+1)^3)' = (3\\ln(2x+1))' = 3(\\ln'(2x+1)(2x+1)') = \\frac{6}{2x+1} $\n",
    "___"
   ]
  },
  {
   "cell_type": "markdown",
   "metadata": {},
   "source": [
    "$$ \\sqrt{\\sin^2(\\ln(x^3))} $$  \n",
    "  \n",
    "$ (\\sqrt{\\sin^2(\\ln(x^3))})' = \\frac{1}{2\\sqrt{\\sin^2(\\ln(x^3))}}2\\sin(\\ln(x^3))\\cos(\\ln(x^3))(3\\frac{1}{x}) = \\frac{3\\sin(\\ln(x^6)}{x\\sqrt{\\sin^2(\\ln(x^3))}}$\n",
    "___"
   ]
  },
  {
   "cell_type": "markdown",
   "metadata": {},
   "source": [
    "$$ \\frac{x^4}{\\ln(x)} $$  \n",
    "\n",
    "$ \\frac{u(x)}{v(x)}=\\frac{u'(x)v(x)-u(x)v'(x)}{v^2(x)} $  \n",
    "\n",
    "$ (\\frac{x^4}{\\ln(x)})' = \\frac{(x^4)'\\ln{x}-x^4\\ln'{x}}{ln^2{x}} = \\frac{4x^3\\ln{x}-x^4(\\frac{1}{x})}{ln^2{x}} = \\frac{x^3(4\\ln{x}-1)}{ln^2{x}} $\n",
    "___"
   ]
  }
 ],
 "metadata": {
  "kernelspec": {
   "display_name": "Python 3",
   "language": "python",
   "name": "python3"
  },
  "language_info": {
   "codemirror_mode": {
    "name": "ipython",
    "version": 3
   },
   "file_extension": ".py",
   "mimetype": "text/x-python",
   "name": "python",
   "nbconvert_exporter": "python",
   "pygments_lexer": "ipython3",
   "version": "3.8.5"
  }
 },
 "nbformat": 4,
 "nbformat_minor": 4
}
