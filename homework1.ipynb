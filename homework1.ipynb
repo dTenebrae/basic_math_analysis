{
 "cells": [
  {
   "cell_type": "code",
   "execution_count": 2,
   "metadata": {},
   "outputs": [],
   "source": [
    "import numpy as np\n",
    "import matplotlib.pyplot as plt\n",
    "import warnings\n",
    "from scipy import special\n",
    "import math\n",
    "%matplotlib inline\n",
    "warnings.simplefilter('ignore')"
   ]
  },
  {
   "cell_type": "markdown",
   "metadata": {},
   "source": [
    "## Тема 1 “Введение в математических анализ” ##"
   ]
  },
  {
   "cell_type": "markdown",
   "metadata": {},
   "source": [
    "1. Как относятся друг к другу множество и последовательность? (в ответе использовать слова типа: часть, целое, общее, частное, родитель, дочерний субъект и т.д.)  "
   ]
  },
  {
   "cell_type": "markdown",
   "metadata": {},
   "source": [
    "Множество - это набор неких объектов обладающих общим свойством. Например, множество комплексных чисел, множество жителей страны и т.п.   \n",
    "\n",
    "Последовательность - это пронумерованный набор объектов, причем порядок имеет значение. Фактически, это функция одной переменной.\n",
    "\n",
    "Можно считать множество абстракцией более высокого уровня (родителем), потому как любую последовательность можно считать множеством, но не любое множество можно назвать последовательностью"
   ]
  },
  {
   "cell_type": "markdown",
   "metadata": {},
   "source": [
    "2. Прочитать высказывания математической логики, построить их отрицания и установить истинность.  "
   ]
  },
  {
   "cell_type": "markdown",
   "metadata": {},
   "source": [
    "- $ \\forall y \\in [0;1] : sgn(y) = 1$"
   ]
  },
  {
   "cell_type": "markdown",
   "metadata": {},
   "source": [
    "Для каждого y принадлежащего отрезку [0; 1] значение функции sgn(y) равно 1"
   ]
  },
  {
   "cell_type": "code",
   "execution_count": 33,
   "metadata": {
    "scrolled": true
   },
   "outputs": [
    {
     "data": {
      "image/png": "[encoded data removed]",
      "text/plain": [
       "<Figure size 432x288 with 1 Axes>"
      ]
     },
     "metadata": {
      "needs_background": "light"
     },
     "output_type": "display_data"
    }
   ],
   "source": [
    "x = np.linspace(0, 1, 100)\n",
    "y = np.sign(x)\n",
    "plt.plot(x, y);"
   ]
  },
  {
   "cell_type": "markdown",
   "metadata": {},
   "source": [
    "Высказывание ложно, так как  \n",
    "$$ sgn(y) = \\begin{cases}\n",
    "  1,  & \\mbox{x > 0}\\\\\n",
    "  0, & \\mbox{x = 0}\\\\\n",
    "  -1, & \\mbox{x < 0}\n",
    "\\end{cases} $$\n",
    "а следовательно при $y=0$ : $sgn(y) \\neq 1$  \n",
    "\n",
    "---"
   ]
  },
  {
   "cell_type": "markdown",
   "metadata": {},
   "source": [
    "- $ \\forall n \\in \\mathbb {N} > 2 : \\exists x, y, z \\in \\mathbb{N} : x^n = y^n + z^n$"
   ]
  },
  {
   "cell_type": "markdown",
   "metadata": {},
   "source": [
    "Для каждого n принадлежащего множеству натуральных чисел больше 2 существуют такие x, y, z принадлежащие множеству натуральных чисел, при которых $ x^n = y^n + z^n $"
   ]
  },
  {
   "cell_type": "markdown",
   "metadata": {},
   "source": [
    "Выражение истинно"
   ]
  },
  {
   "cell_type": "markdown",
   "metadata": {},
   "source": [
    "---"
   ]
  },
  {
   "cell_type": "markdown",
   "metadata": {},
   "source": [
    "- $ \\forall x \\in \\mathbb {R} \\exists X \\in \\mathbb {R} : X > x $"
   ]
  },
  {
   "cell_type": "markdown",
   "metadata": {},
   "source": [
    "Для каждого x принадлежащего множеству рациональных чисел, существует X, также принадлежащий множеству рациональных чисел, который больше x"
   ]
  },
  {
   "cell_type": "markdown",
   "metadata": {},
   "source": [
    "Высказывание истинно, так как для любого числа из множества рациональных чисел можно найти большее число\n",
    "\n",
    "---"
   ]
  },
  {
   "cell_type": "markdown",
   "metadata": {},
   "source": [
    "- $ \\forall x \\in \\mathbb {C} \\nexists y \\in \\mathbb {C} : x > y \\vert \\vert x < y$"
   ]
  },
  {
   "cell_type": "markdown",
   "metadata": {},
   "source": [
    "Для каждого x принадлежащего множеству комплексных чисел не существует y, принадлежащий этому же множеству, которое или больше x или меньше"
   ]
  },
  {
   "cell_type": "markdown",
   "metadata": {},
   "source": [
    "Выражение ложно, так как для любого числа в этом множестве можно найти число большее, меньшее или равное другому"
   ]
  },
  {
   "cell_type": "markdown",
   "metadata": {},
   "source": [
    "---"
   ]
  },
  {
   "cell_type": "markdown",
   "metadata": {},
   "source": [
    "- $ \\forall y \\in [0; \\frac{\\pi}{2}] \\exists \\epsilon > 0 : \\sin y < \\sin(y + \\epsilon)$"
   ]
  },
  {
   "cell_type": "markdown",
   "metadata": {},
   "source": [
    "Для каждого y принадлежащего отрезку $ [0; \\frac{\\pi}{2}] $ существует $ \\epsilon $ больше нуля, при котором $\\sin(y)$ будет меньше $\\sin(y+\\epsilon)$"
   ]
  },
  {
   "cell_type": "code",
   "execution_count": 28,
   "metadata": {},
   "outputs": [
    {
     "data": {
      "image/png": "[encoded data removed]",
      "text/plain": [
       "<Figure size 432x288 with 1 Axes>"
      ]
     },
     "metadata": {
      "needs_background": "light"
     },
     "output_type": "display_data"
    }
   ],
   "source": [
    "x = np.linspace(0, np.pi / 2, 1000)\n",
    "y = np.sin(x)\n",
    "plt.plot(x, y);"
   ]
  },
  {
   "cell_type": "markdown",
   "metadata": {},
   "source": [
    "Выражение ложно, так как при значении $ y = \\frac{\\pi}{2}, \\sin y = 1 $, а это максимальное значение функции  \n",
    "\n",
    "---"
   ]
  },
  {
   "cell_type": "markdown",
   "metadata": {},
   "source": [
    "- $ \\forall y \\in [0; \\pi] \\exists \\epsilon > 0 : \\cos y > \\cos(y + \\epsilon)$"
   ]
  },
  {
   "cell_type": "markdown",
   "metadata": {},
   "source": [
    "Для каждого y принадлежащего отрезку $ [0; \\pi] $ существует $ \\epsilon $ больше нуля, при котором $\\cos(y)$ будет больше $\\cos(y+\\epsilon)$"
   ]
  },
  {
   "cell_type": "code",
   "execution_count": 27,
   "metadata": {},
   "outputs": [
    {
     "data": {
      "image/png": "[encoded data removed]",
      "text/plain": [
       "<Figure size 432x288 with 1 Axes>"
      ]
     },
     "metadata": {
      "needs_background": "light"
     },
     "output_type": "display_data"
    }
   ],
   "source": [
    "x = np.linspace(0, np.pi, 1000)\n",
    "y = np.cos(x)\n",
    "plt.plot(x, y);"
   ]
  },
  {
   "cell_type": "markdown",
   "metadata": {},
   "source": [
    "Выражение ложно, так как при $ y = \\pi, \\cos y = -1 $, а это минимальное значение функции"
   ]
  },
  {
   "cell_type": "markdown",
   "metadata": {},
   "source": [
    "---"
   ]
  },
  {
   "cell_type": "markdown",
   "metadata": {},
   "source": [
    "- $ \\exists x : x \\not\\in \\{\\mathbb{N,Z,Q,R,C}\\} $"
   ]
  },
  {
   "cell_type": "markdown",
   "metadata": {},
   "source": [
    "Существует x не входящий ни в одно числовое множество"
   ]
  },
  {
   "cell_type": "markdown",
   "metadata": {},
   "source": [
    "Выражение ложно, так как не существует число (считаем x числом, иначе выражение истинно) не входящее ни в одно из перечисленных множеств\n",
    "\n",
    "---"
   ]
  },
  {
   "cell_type": "markdown",
   "metadata": {},
   "source": [
    "## Тема 2 “Множество” ##"
   ]
  },
  {
   "cell_type": "markdown",
   "metadata": {},
   "source": [
    "1. Даны три множества A, B и C. Необходимо выполнить все изученные виды бинарных операций над всеми комбинациями множеств.  "
   ]
  },
  {
   "cell_type": "markdown",
   "metadata": {},
   "source": [
    "$ \\{A, B, C\\} $\n",
    "\n",
    "- конъюнкция  \n",
    "$ A \\wedge B $  \n",
    "$ A \\wedge C $  \n",
    "$ B \\wedge C $  \n",
    "$ A \\wedge B \\wedge C $  \n",
    "  \n",
    "  \n",
    "- дизъюнкция  \n",
    "$ A \\lor B $  \n",
    "$ A \\lor C $  \n",
    "$ B \\lor C $  \n",
    "$ A \\lor B \\lor C $  \n",
    "  \n",
    "  \n",
    "- инверсия  \n",
    "$ \\lnot A, \\lnot B, \\lnot C $  \n",
    "  \n",
    "  \n",
    "- импликация  \n",
    "$ A \\Rightarrow B $  \n",
    "$ A \\Rightarrow C $  \n",
    "$ B \\Rightarrow A $  \n",
    "$ B \\Rightarrow C $  \n",
    "$ C \\Rightarrow A $  \n",
    "$ C \\Rightarrow B $  \n",
    "\n",
    "\n",
    "- эквивалентность  \n",
    "$ A \\iff B $  \n",
    "$ A \\iff C $  \n",
    "$ B \\iff C $  "
   ]
  },
  {
   "cell_type": "markdown",
   "metadata": {},
   "source": [
    "2. Выполнить задание 1 на языке Python"
   ]
  },
  {
   "cell_type": "code",
   "execution_count": 57,
   "metadata": {},
   "outputs": [],
   "source": [
    "A = set([1, 2, 3])\n",
    "B = set([1, 2, 3])\n",
    "C = set([6, 7, 8])\n",
    "a = True\n",
    "b = False\n",
    "c = False"
   ]
  },
  {
   "cell_type": "code",
   "execution_count": 48,
   "metadata": {},
   "outputs": [
    {
     "data": {
      "text/plain": [
       "({1, 2, 3}, set(), set(), set())"
      ]
     },
     "execution_count": 48,
     "metadata": {},
     "output_type": "execute_result"
    }
   ],
   "source": [
    "# Конъюнкция\n",
    "A & B, A & C, B & C, A & B & C"
   ]
  },
  {
   "cell_type": "code",
   "execution_count": 49,
   "metadata": {},
   "outputs": [
    {
     "data": {
      "text/plain": [
       "({1, 2, 3}, {1, 2, 3, 6, 7, 8}, {1, 2, 3, 6, 7, 8}, {1, 2, 3, 6, 7, 8})"
      ]
     },
     "execution_count": 49,
     "metadata": {},
     "output_type": "execute_result"
    }
   ],
   "source": [
    "# Дизъюнкция\n",
    "A | B, A | C, B | C, A | B | C"
   ]
  },
  {
   "cell_type": "code",
   "execution_count": 54,
   "metadata": {},
   "outputs": [
    {
     "data": {
      "text/plain": [
       "(True, False, False)"
      ]
     },
     "execution_count": 54,
     "metadata": {},
     "output_type": "execute_result"
    }
   ],
   "source": [
    "# Эквивалентность\n",
    "A == B, A == C, B == C"
   ]
  },
  {
   "cell_type": "code",
   "execution_count": 61,
   "metadata": {},
   "outputs": [
    {
     "data": {
      "text/plain": [
       "(False, True, True)"
      ]
     },
     "execution_count": 61,
     "metadata": {},
     "output_type": "execute_result"
    }
   ],
   "source": [
    "# отрицание\n",
    "not(a), not(b), not(c)"
   ]
  },
  {
   "cell_type": "code",
   "execution_count": 66,
   "metadata": {},
   "outputs": [
    {
     "data": {
      "text/plain": [
       "(False, False, True, True, True, True)"
      ]
     },
     "execution_count": 66,
     "metadata": {},
     "output_type": "execute_result"
    }
   ],
   "source": [
    "# Импликация \n",
    "not(a) or b, not(a) or c, not(b) or a, not(b) or c, not (c) or a, not(c) or b"
   ]
  },
  {
   "cell_type": "markdown",
   "metadata": {},
   "source": [
    "## Тема 3 “Последовательность” ##\n",
    "\n",
    "#### 1. Даны 4 последовательности. Необходимо:\n",
    " * a. исследовать их на монотонность; \n",
    " * b. исследовать на ограниченность;\n",
    " * c. найти пятый по счету член.  \n",
    " "
   ]
  },
  {
   "cell_type": "markdown",
   "metadata": {},
   "source": [
    "Сначала определим, какая последовательность является монотонной.  \n",
    "\n",
    "Монотонной считается последовательность, элементы которой с увеличением номера не убывают, или, наоборот, не возрастают. То есть, последовательность $ \\{x_n\\} \\in \\mathbb{N} $ является монотонной, если удовлетворяет одному из следующих условий:\n",
    "\n",
    "- $ \\forall n \\in \\mathbb{N}: x_n \\leq x_{n+1} $ - неубывающая последовательность\n",
    "- $ \\forall n \\in \\mathbb{N}: x_n \\geq x_{n+1} $ - невозрастающая последовательность"
   ]
  },
  {
   "cell_type": "markdown",
   "metadata": {},
   "source": [
    "Очевидно, что возрастающая или убывающая последовательности, для которых\n",
    "- $ \\forall n \\in \\mathbb{N}: x_n < x_{n+1} $ - возрастающая последовательность\n",
    "- $ \\forall n \\in \\mathbb{N}: x_n > x_{n+1} $ - убывающая последовательность  \n",
    "\n",
    "являются монотонными"
   ]
  },
  {
   "cell_type": "markdown",
   "metadata": {},
   "source": [
    "---"
   ]
  },
  {
   "cell_type": "markdown",
   "metadata": {},
   "source": [
    "$$ \\{a_n\\}_{n=1}^{\\infty} = 2^n - n \\tag{1}$$  "
   ]
  },
  {
   "cell_type": "markdown",
   "metadata": {},
   "source": [
    "Определим характер последовательности, для чего вычтем из n+1 члена последовательности n-й"
   ]
  },
  {
   "cell_type": "markdown",
   "metadata": {},
   "source": [
    "$ a_{n+1} - a_n = (2^{n+1} - (n + 1)) - (2^n - n) = 2^{n+1} - n - 1 - 2^n + n = 2^{n+1} - 2^n - 1 = 2^n -1$"
   ]
  },
  {
   "cell_type": "markdown",
   "metadata": {},
   "source": [
    "Очевидно, что $ \\forall n \\in [1; \\infty) : 2^n - 1 > 0 \\Rightarrow a_n < a_{n+1}$, а значит последовательность (1) является возрастающей, следовательно строго монотонной"
   ]
  },
  {
   "cell_type": "markdown",
   "metadata": {},
   "source": [
    "Представим это графически"
   ]
  },
  {
   "cell_type": "code",
   "execution_count": 4,
   "metadata": {},
   "outputs": [
    {
     "data": {
      "image/png": "[encoded data removed]",
      "text/plain": [
       "<Figure size 432x288 with 1 Axes>"
      ]
     },
     "metadata": {
      "needs_background": "light"
     },
     "output_type": "display_data"
    },
    {
     "name": "stdout",
     "output_type": "stream",
     "text": [
      "пятый элемент последовательности равен 27\n"
     ]
    }
   ],
   "source": [
    "n = np.arange(1, 15, 1)\n",
    "a = np.power(2, n) - n\n",
    "plt.plot(n, a, lw=3)\n",
    "plt.show()\n",
    "print(f'пятый элемент последовательности равен {a[4]}')"
   ]
  },
  {
   "cell_type": "markdown",
   "metadata": {},
   "source": [
    "Последовательность (1) является ограниченой снизу, поскольку  \n",
    "$ 2^n-n \\geq 1 : \\forall n \\in [1; \\infty) $"
   ]
  },
  {
   "cell_type": "markdown",
   "metadata": {},
   "source": [
    "---"
   ]
  },
  {
   "cell_type": "markdown",
   "metadata": {},
   "source": [
    "$$ \\{b_n\\}_{n=2}^{\\infty} = \\frac{1}{1-n} \\tag{2} $$  "
   ]
  },
  {
   "cell_type": "markdown",
   "metadata": {},
   "source": [
    "Аналогично,"
   ]
  },
  {
   "cell_type": "markdown",
   "metadata": {},
   "source": [
    "$ b_{n+1}-b_n=\\frac{1}{1-(n+1)}-\\frac{1}{1-n}=\\frac{1}{-n}-\\frac{1}{1-n}=\\frac{1-n}{-n(1-n)}-\\frac{-n}{-n(1-n)}=\\frac{1}{-n(1-n)}=\\frac{1}{n^2-n} > 0 : \\forall n \\in [2;\\infty) \\Rightarrow b_n < b_{n+1}$,   \n",
    "а значит последовательность (2) также является возрастающей"
   ]
  },
  {
   "cell_type": "code",
   "execution_count": 68,
   "metadata": {},
   "outputs": [
    {
     "data": {
      "image/png": "[encoded data removed]",
      "text/plain": [
       "<Figure size 432x288 with 1 Axes>"
      ]
     },
     "metadata": {
      "needs_background": "light"
     },
     "output_type": "display_data"
    },
    {
     "name": "stdout",
     "output_type": "stream",
     "text": [
      "пятый элемент последовательности равен -0.2\n"
     ]
    }
   ],
   "source": [
    "n = np.arange(2, 1000, 1)\n",
    "b = 1 / (1 - n)\n",
    "plt.plot(n, b, lw=3)\n",
    "plt.show()\n",
    "print(f'пятый элемент последовательности равен {b[4]}')"
   ]
  },
  {
   "cell_type": "markdown",
   "metadata": {},
   "source": [
    "Последовательность (2) является ограниченой сверху, поскольку  \n",
    "$ \\frac{1}{1-n} < 0 : \\forall n \\in [2; \\infty) $"
   ]
  },
  {
   "cell_type": "markdown",
   "metadata": {},
   "source": [
    "А также ограниченой снизу, так как при первом значении n = 2 значение функции равно -1"
   ]
  },
  {
   "cell_type": "markdown",
   "metadata": {},
   "source": [
    "---"
   ]
  },
  {
   "cell_type": "markdown",
   "metadata": {},
   "source": [
    "$$ \\{c_n\\}_{n=1}^{\\infty} = -1^n + \\sqrt{2n} \\tag{3} $$  "
   ]
  },
  {
   "cell_type": "markdown",
   "metadata": {},
   "source": [
    "Последовательность (3) можно представить как:  \n",
    "$ \\{c_n\\}_{n=1}^{\\infty} = -1^n + \\sqrt{2n} = \\sqrt{2n} - 1 $"
   ]
  },
  {
   "cell_type": "markdown",
   "metadata": {},
   "source": [
    "Следовательно,  \n",
    "$ c_{n+1}-c_{n}= (\\sqrt{2(n+1)}-1) - (\\sqrt{2n}-1) = \\sqrt{2(n+1)} - \\sqrt{2n} > 0 $, так как $\\sqrt{2(n+1)}>\\sqrt{2n} : \\forall n \\in [1; \\infty)$,  \n",
    "а значит последовательнось является возрастающей"
   ]
  },
  {
   "cell_type": "code",
   "execution_count": 6,
   "metadata": {},
   "outputs": [
    {
     "data": {
      "image/png": "[encoded data removed]",
      "text/plain": [
       "<Figure size 432x288 with 1 Axes>"
      ]
     },
     "metadata": {
      "needs_background": "light"
     },
     "output_type": "display_data"
    },
    {
     "name": "stdout",
     "output_type": "stream",
     "text": [
      "пятый элемент последовательности равен 2.1622776601683795\n"
     ]
    }
   ],
   "source": [
    "n = np.arange(1, 100 ,1)\n",
    "c = np.sqrt(2 * n) - 1\n",
    "plt.plot(n, c, lw=3)\n",
    "plt.show()\n",
    "print(f'пятый элемент последовательности равен {c[4]}')"
   ]
  },
  {
   "cell_type": "markdown",
   "metadata": {},
   "source": [
    "Последовательность (3) является ограниченой снизу, поскольку  \n",
    "$ \\sqrt{2n} - 1 > 0.4 : \\forall n \\in [1;\\infty) $"
   ]
  },
  {
   "cell_type": "markdown",
   "metadata": {},
   "source": [
    "---"
   ]
  },
  {
   "cell_type": "markdown",
   "metadata": {},
   "source": [
    "$$ \\{d_n\\}_{n=1}^{\\infty} = (-1)^{2n} + \\frac{1}{n^2} \\tag{4} $$  "
   ]
  },
  {
   "cell_type": "markdown",
   "metadata": {},
   "source": [
    "Последовательность (4) можно представить как:"
   ]
  },
  {
   "cell_type": "markdown",
   "metadata": {},
   "source": [
    "$ \\{d_n\\}_{n=1}^{\\infty} = (-1)^{2n} + \\frac{1}{n^2} = 1 + \\frac{1}{n^2} $  "
   ]
  },
  {
   "cell_type": "markdown",
   "metadata": {},
   "source": [
    "Следовательно,\n",
    "$ d_{n+1}-d_{n} = (1+\\frac{1}{(n+1)^2}) - (1 + \\frac{1}{n^2}) = \\frac{1}{(n+1)^2}-\\frac{1}{n^2}= \\frac{n^2}{n^2(n+1)^2}-\\frac{(n+1)^2}{n^2(n+1)^2}=\\frac{n^2-(n^2+2n+1)}{n^2(n+1)^2}=-\\frac{2n+1}{n^2(n+1)^2} < 0 : \\forall n \\in [1; \\infty) \\Rightarrow b_n>b_{n+1}$,  \n",
    "а значит последовательность (4) является убывающей"
   ]
  },
  {
   "cell_type": "code",
   "execution_count": 70,
   "metadata": {},
   "outputs": [
    {
     "data": {
      "image/png": "[encoded data removed]",
      "text/plain": [
       "<Figure size 432x288 with 1 Axes>"
      ]
     },
     "metadata": {
      "needs_background": "light"
     },
     "output_type": "display_data"
    },
    {
     "name": "stdout",
     "output_type": "stream",
     "text": [
      "пятый элемент последовательности равен 1.04\n"
     ]
    }
   ],
   "source": [
    "n = np.arange(1, 100, 1)\n",
    "d = 1 + 1 /np.power(n, 2)\n",
    "plt.plot(n, d, lw=3)\n",
    "plt.show()\n",
    "print(f'пятый элемент последовательности равен {d[4]}')"
   ]
  },
  {
   "cell_type": "markdown",
   "metadata": {},
   "source": [
    "Последовательность (1) является ограниченой снизу, поскольку  \n",
    "$ 1 + \\frac{1}{n^2} > 1 : \\forall n \\in [1; \\infty) $"
   ]
  },
  {
   "cell_type": "markdown",
   "metadata": {},
   "source": [
    "А также ограниченой сверху, так как при первом значении n = 1 значение функции равно 2"
   ]
  },
  {
   "cell_type": "markdown",
   "metadata": {},
   "source": [
    "***"
   ]
  },
  {
   "cell_type": "markdown",
   "metadata": {},
   "source": [
    "#### 2. Найти 12-й член заданной неявно последовательности\n",
    "\n",
    "$$ a_1 = 128, $$  \n",
    "$$ a_{n+1} - a_n = 6 $$\n",
    "\n",
    "Последовательность можно представить в виде:\n",
    "$$ \\{a_n\\}_{n=1}^{\\infty} = 128 + 6(n - 1) $$  \n",
    "\n",
    "Следовательно, при \n",
    "$$ n = 12 $$  \n",
    "\n",
    "$$ a_{12} = 128 + 6(12 - 1) = 128 + 66 = 194$$"
   ]
  },
  {
   "cell_type": "code",
   "execution_count": 8,
   "metadata": {},
   "outputs": [
    {
     "data": {
      "text/plain": [
       "194"
      ]
     },
     "execution_count": 8,
     "metadata": {},
     "output_type": "execute_result"
    }
   ],
   "source": [
    "# То же самое в виде функции на python\n",
    "def seq(n:int)->int:\n",
    "    return 128 + 6 * (int(n) - 1)\n",
    "\n",
    "seq(12)"
   ]
  },
  {
   "cell_type": "markdown",
   "metadata": {},
   "source": [
    "---"
   ]
  },
  {
   "cell_type": "markdown",
   "metadata": {},
   "source": [
    "#### 3. На языке Python предложить алгоритм вычисляющий численно предел с точностью $\\epsilon = 10^{-7}$\n",
    "\n",
    "$$ \\lim_\\limits{n \\to +\\infty} \\frac{n}{\\sqrt[n]{n!}} \\tag{5} $$"
   ]
  },
  {
   "cell_type": "markdown",
   "metadata": {},
   "source": [
    "Попробуем нарисовать функцию (5)"
   ]
  },
  {
   "cell_type": "code",
   "execution_count": 9,
   "metadata": {},
   "outputs": [
    {
     "data": {
      "image/png": "[encoded data removed]",
      "text/plain": [
       "<Figure size 576x504 with 1 Axes>"
      ]
     },
     "metadata": {
      "needs_background": "light"
     },
     "output_type": "display_data"
    },
    {
     "name": "stdout",
     "output_type": "stream",
     "text": [
      "Последний элемент 2.6628110780187835\n"
     ]
    }
   ],
   "source": [
    "plt.figure(figsize=(8, 7))\n",
    "n = np.arange(1, 170, 1)\n",
    "y = n / np.power(special.factorial(n), (1 / n))\n",
    "plt.plot(n, y, lw=3)\n",
    "plt.show()\n",
    "print(f'Последний элемент {y[-1]}')"
   ]
  },
  {
   "cell_type": "markdown",
   "metadata": {},
   "source": [
    "---"
   ]
  },
  {
   "cell_type": "markdown",
   "metadata": {},
   "source": [
    "При значении n > 170 упираемся в ограничение на размер типа данных. Попробуем упростить выражение"
   ]
  },
  {
   "cell_type": "markdown",
   "metadata": {},
   "source": [
    "Обозначим значение, которое нам нужно найти за L. Тогда,  \n",
    "$ L = \\lim_\\limits{n \\to +\\infty} \\frac{n}{\\sqrt[n]{n!}} $  \n",
    "Прологарифмируем обе части равенства:  \n",
    "$ \\ln{L} = \\ln{\\lim_\\limits{n \\to +\\infty} \\frac{n}{\\sqrt[n]{n!}}} $  \n",
    "Пользуясь тем, что логарифм является непрерывной функцией, вынесем предел за него  \n",
    "$ \\ln{L} = \\lim_\\limits{n \\to +\\infty}\\ln{\\frac{n}{\\sqrt[n]{n!}}} $  \n",
    "Далее, пользуясь свойствами логарифмов, получим  \n",
    "$ \\ln{L} = \\lim_\\limits{n \\to +\\infty}\\ln{\\frac{n}{\\sqrt[n]{n!}}} = \\lim_\\limits{n \\to +\\infty}(\\ln{n}- \\ln\\sqrt[n]{n!}) = \\lim_\\limits{n \\to +\\infty}(\\ln{n}- \\ln (n!)^{\\frac{1}{n}}) = \\lim_\\limits{n \\to +\\infty}(\\ln{n}- \\frac{1}{n}\\ln n!) = \\lim_\\limits{n \\to +\\infty}(\\frac{n\\ln{n}}{n}- \\frac{\\ln n!}{n}) = \\lim_\\limits{n \\to +\\infty}(\\frac{n\\ln{n}-\\ln n!}{n}) $  \n",
    "Воспользуемся теоремой Штольца, которая гласит:  \n",
    "Для последовательностей $x_n, y_n, $ причем $ y_n > 0, y_n \\rightarrow + \\infty, y_{n+1}>y_n $  \n",
    "$ \\lim_\\limits{n \\to +\\infty}\\frac{x_n}{y_n} = \\lim_\\limits{n \\to +\\infty}\\frac{x_{n+1} - x_n}{y_{n+1}-y_n} $  \n",
    "У нас получается, что  \n",
    "$ x_n = n\\ln{n}-\\ln n! $  \n",
    "$ y_n = n $  \n",
    "$ \\lim_\\limits{n \\to +\\infty}(\\frac{n\\ln{n}-\\ln n!}{n}) = \\lim_\\limits{n \\to +\\infty}(\\frac{(n+1)\\ln{(n+1)}-\\ln (n+1)!-(n\\ln{n}-\\ln n!)}{(n+1) - n})=\\lim_\\limits{n \\to +\\infty}((n+1)\\ln{(n+1)}-\\ln (n+1)!-n\\ln{n}+\\ln n!) = \\lim_\\limits{n \\to +\\infty}[(n\\ln(n+1)-n\\ln{n}+\\ln(n+1)+\\ln n!-\\ln (n+1)!]=\\lim_\\limits{n \\to +\\infty}[n\\ln(\\frac{n+1}{n})+\\ln(\\frac{(n+1)n!}{(n+1)!})]$  \n",
    "$ \\frac{(n+1)n!}{(n+1)!} = 1$, так как мы умножаем n! на следующее за n число (n+1), а значит это (n+1)!, то же самое, что имеем в знаменателе. Логарифм от 1 равен 0, а значит  \n",
    "$ \\ln L = \\lim_\\limits{n \\to +\\infty}[n\\ln(\\frac{n+1}{n})] = \\lim_\\limits{n \\to +\\infty}[\\ln(1+ \\frac{1}{n})^n] = \\ln\\lim_\\limits{n \\to +\\infty}[(1+ \\frac{1}{n})^n] \\Rightarrow $  \n",
    "$ L = \\lim_\\limits{n \\to +\\infty}[(1+ \\frac{1}{n})^n] $"
   ]
  },
  {
   "cell_type": "code",
   "execution_count": 10,
   "metadata": {},
   "outputs": [],
   "source": [
    "e = 1e-7\n",
    "def lim_1(precision: float) -> tuple:\n",
    "    n = 1\n",
    "    dif = 10 # любое число большее чем точность\n",
    "    prev = 0\n",
    "    while dif > precision:\n",
    "        current = np.power((1 + (1 / n)), n)\n",
    "        dif = abs(current - prev)\n",
    "        prev = current\n",
    "        n += 1\n",
    "    return current, n"
   ]
  },
  {
   "cell_type": "code",
   "execution_count": 11,
   "metadata": {},
   "outputs": [
    {
     "name": "stdout",
     "output_type": "stream",
     "text": [
      "7.76 ms ± 75.4 µs per loop (mean ± std. dev. of 7 runs, 100 loops each)\n"
     ]
    }
   ],
   "source": [
    "%%timeit\n",
    "lim_1(e)"
   ]
  },
  {
   "cell_type": "code",
   "execution_count": 12,
   "metadata": {},
   "outputs": [
    {
     "name": "stdout",
     "output_type": "stream",
     "text": [
      "За 3688 итераций значение предела равно 2.7179132895130134 при точности 1e-07\n"
     ]
    }
   ],
   "source": [
    "lim_result, iter_number = lim_1(e)\n",
    " \n",
    "print(f'За {iter_number} итераций значение предела равно {lim_result} при точности {e}')"
   ]
  },
  {
   "cell_type": "markdown",
   "metadata": {},
   "source": [
    "#### 4. Предложить оптимизацию алгоритма, полученного в задании 3, ускоряющую его сходимость."
   ]
  },
  {
   "cell_type": "markdown",
   "metadata": {},
   "source": [
    "$ L = \\lim_\\limits{n \\to +\\infty}[(1+ \\frac{1}{n})^n] $, воспользуемся тем, что это второй замечательный предел, а значит  \n",
    "$ L = e $"
   ]
  },
  {
   "cell_type": "code",
   "execution_count": 13,
   "metadata": {},
   "outputs": [
    {
     "name": "stdout",
     "output_type": "stream",
     "text": [
      "41.8 ns ± 0.473 ns per loop (mean ± std. dev. of 7 runs, 10000000 loops each)\n"
     ]
    }
   ],
   "source": [
    "%%timeit\n",
    "result = np.e"
   ]
  },
  {
   "cell_type": "markdown",
   "metadata": {},
   "source": [
    "Первый вариант вычислений выполнялся за 8 мс, текущий - 42 нс. Хотя, назвать это вычислением сложно :)"
   ]
  },
  {
   "cell_type": "code",
   "execution_count": 14,
   "metadata": {},
   "outputs": [
    {
     "name": "stdout",
     "output_type": "stream",
     "text": [
      "Итоговый результат: 2.718281828459045\n"
     ]
    }
   ],
   "source": [
    "print(f'Итоговый результат: {np.e}')"
   ]
  }
 ],
 "metadata": {
  "kernelspec": {
   "display_name": "Python 3",
   "language": "python",
   "name": "python3"
  },
  "language_info": {
   "codemirror_mode": {
    "name": "ipython",
    "version": 3
   },
   "file_extension": ".py",
   "mimetype": "text/x-python",
   "name": "python",
   "nbconvert_exporter": "python",
   "pygments_lexer": "ipython3",
   "version": "3.8.5"
  }
 },
 "nbformat": 4,
 "nbformat_minor": 4
}
